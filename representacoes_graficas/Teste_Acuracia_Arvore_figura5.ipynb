{
  "nbformat": 4,
  "nbformat_minor": 0,
  "metadata": {
    "colab": {
      "provenance": []
    },
    "kernelspec": {
      "name": "python3",
      "display_name": "Python 3"
    },
    "language_info": {
      "name": "python"
    }
  },
  "cells": [
    {
      "cell_type": "markdown",
      "source": [
        "# Testando a acurácia da árvore de decisão gerada a partir das outras"
      ],
      "metadata": {
        "id": "IaK-nAs3cWTK"
      }
    },
    {
      "cell_type": "code",
      "source": [
        "import pandas as pd\n",
        "from google.colab import files\n",
        "import io"
      ],
      "metadata": {
        "id": "K4KK1fCz0Egj"
      },
      "execution_count": null,
      "outputs": []
    },
    {
      "cell_type": "code",
      "execution_count": null,
      "metadata": {
        "colab": {
          "base_uri": "https://localhost:8080/",
          "height": 316
        },
        "id": "f3HyYKwFzQKV",
        "outputId": "031954a3-a28a-4008-bfa4-c68ab91effc9"
      },
      "outputs": [
        {
          "output_type": "display_data",
          "data": {
            "text/plain": [
              "<IPython.core.display.HTML object>"
            ],
            "text/html": [
              "\n",
              "     <input type=\"file\" id=\"files-1bd83d8f-ced4-4b77-8468-c160a49d2c0a\" name=\"files[]\" multiple disabled\n",
              "        style=\"border:none\" />\n",
              "     <output id=\"result-1bd83d8f-ced4-4b77-8468-c160a49d2c0a\">\n",
              "      Upload widget is only available when the cell has been executed in the\n",
              "      current browser session. Please rerun this cell to enable.\n",
              "      </output>\n",
              "      <script>// Copyright 2017 Google LLC\n",
              "//\n",
              "// Licensed under the Apache License, Version 2.0 (the \"License\");\n",
              "// you may not use this file except in compliance with the License.\n",
              "// You may obtain a copy of the License at\n",
              "//\n",
              "//      http://www.apache.org/licenses/LICENSE-2.0\n",
              "//\n",
              "// Unless required by applicable law or agreed to in writing, software\n",
              "// distributed under the License is distributed on an \"AS IS\" BASIS,\n",
              "// WITHOUT WARRANTIES OR CONDITIONS OF ANY KIND, either express or implied.\n",
              "// See the License for the specific language governing permissions and\n",
              "// limitations under the License.\n",
              "\n",
              "/**\n",
              " * @fileoverview Helpers for google.colab Python module.\n",
              " */\n",
              "(function(scope) {\n",
              "function span(text, styleAttributes = {}) {\n",
              "  const element = document.createElement('span');\n",
              "  element.textContent = text;\n",
              "  for (const key of Object.keys(styleAttributes)) {\n",
              "    element.style[key] = styleAttributes[key];\n",
              "  }\n",
              "  return element;\n",
              "}\n",
              "\n",
              "// Max number of bytes which will be uploaded at a time.\n",
              "const MAX_PAYLOAD_SIZE = 100 * 1024;\n",
              "\n",
              "function _uploadFiles(inputId, outputId) {\n",
              "  const steps = uploadFilesStep(inputId, outputId);\n",
              "  const outputElement = document.getElementById(outputId);\n",
              "  // Cache steps on the outputElement to make it available for the next call\n",
              "  // to uploadFilesContinue from Python.\n",
              "  outputElement.steps = steps;\n",
              "\n",
              "  return _uploadFilesContinue(outputId);\n",
              "}\n",
              "\n",
              "// This is roughly an async generator (not supported in the browser yet),\n",
              "// where there are multiple asynchronous steps and the Python side is going\n",
              "// to poll for completion of each step.\n",
              "// This uses a Promise to block the python side on completion of each step,\n",
              "// then passes the result of the previous step as the input to the next step.\n",
              "function _uploadFilesContinue(outputId) {\n",
              "  const outputElement = document.getElementById(outputId);\n",
              "  const steps = outputElement.steps;\n",
              "\n",
              "  const next = steps.next(outputElement.lastPromiseValue);\n",
              "  return Promise.resolve(next.value.promise).then((value) => {\n",
              "    // Cache the last promise value to make it available to the next\n",
              "    // step of the generator.\n",
              "    outputElement.lastPromiseValue = value;\n",
              "    return next.value.response;\n",
              "  });\n",
              "}\n",
              "\n",
              "/**\n",
              " * Generator function which is called between each async step of the upload\n",
              " * process.\n",
              " * @param {string} inputId Element ID of the input file picker element.\n",
              " * @param {string} outputId Element ID of the output display.\n",
              " * @return {!Iterable<!Object>} Iterable of next steps.\n",
              " */\n",
              "function* uploadFilesStep(inputId, outputId) {\n",
              "  const inputElement = document.getElementById(inputId);\n",
              "  inputElement.disabled = false;\n",
              "\n",
              "  const outputElement = document.getElementById(outputId);\n",
              "  outputElement.innerHTML = '';\n",
              "\n",
              "  const pickedPromise = new Promise((resolve) => {\n",
              "    inputElement.addEventListener('change', (e) => {\n",
              "      resolve(e.target.files);\n",
              "    });\n",
              "  });\n",
              "\n",
              "  const cancel = document.createElement('button');\n",
              "  inputElement.parentElement.appendChild(cancel);\n",
              "  cancel.textContent = 'Cancel upload';\n",
              "  const cancelPromise = new Promise((resolve) => {\n",
              "    cancel.onclick = () => {\n",
              "      resolve(null);\n",
              "    };\n",
              "  });\n",
              "\n",
              "  // Wait for the user to pick the files.\n",
              "  const files = yield {\n",
              "    promise: Promise.race([pickedPromise, cancelPromise]),\n",
              "    response: {\n",
              "      action: 'starting',\n",
              "    }\n",
              "  };\n",
              "\n",
              "  cancel.remove();\n",
              "\n",
              "  // Disable the input element since further picks are not allowed.\n",
              "  inputElement.disabled = true;\n",
              "\n",
              "  if (!files) {\n",
              "    return {\n",
              "      response: {\n",
              "        action: 'complete',\n",
              "      }\n",
              "    };\n",
              "  }\n",
              "\n",
              "  for (const file of files) {\n",
              "    const li = document.createElement('li');\n",
              "    li.append(span(file.name, {fontWeight: 'bold'}));\n",
              "    li.append(span(\n",
              "        `(${file.type || 'n/a'}) - ${file.size} bytes, ` +\n",
              "        `last modified: ${\n",
              "            file.lastModifiedDate ? file.lastModifiedDate.toLocaleDateString() :\n",
              "                                    'n/a'} - `));\n",
              "    const percent = span('0% done');\n",
              "    li.appendChild(percent);\n",
              "\n",
              "    outputElement.appendChild(li);\n",
              "\n",
              "    const fileDataPromise = new Promise((resolve) => {\n",
              "      const reader = new FileReader();\n",
              "      reader.onload = (e) => {\n",
              "        resolve(e.target.result);\n",
              "      };\n",
              "      reader.readAsArrayBuffer(file);\n",
              "    });\n",
              "    // Wait for the data to be ready.\n",
              "    let fileData = yield {\n",
              "      promise: fileDataPromise,\n",
              "      response: {\n",
              "        action: 'continue',\n",
              "      }\n",
              "    };\n",
              "\n",
              "    // Use a chunked sending to avoid message size limits. See b/62115660.\n",
              "    let position = 0;\n",
              "    do {\n",
              "      const length = Math.min(fileData.byteLength - position, MAX_PAYLOAD_SIZE);\n",
              "      const chunk = new Uint8Array(fileData, position, length);\n",
              "      position += length;\n",
              "\n",
              "      const base64 = btoa(String.fromCharCode.apply(null, chunk));\n",
              "      yield {\n",
              "        response: {\n",
              "          action: 'append',\n",
              "          file: file.name,\n",
              "          data: base64,\n",
              "        },\n",
              "      };\n",
              "\n",
              "      let percentDone = fileData.byteLength === 0 ?\n",
              "          100 :\n",
              "          Math.round((position / fileData.byteLength) * 100);\n",
              "      percent.textContent = `${percentDone}% done`;\n",
              "\n",
              "    } while (position < fileData.byteLength);\n",
              "  }\n",
              "\n",
              "  // All done.\n",
              "  yield {\n",
              "    response: {\n",
              "      action: 'complete',\n",
              "    }\n",
              "  };\n",
              "}\n",
              "\n",
              "scope.google = scope.google || {};\n",
              "scope.google.colab = scope.google.colab || {};\n",
              "scope.google.colab._files = {\n",
              "  _uploadFiles,\n",
              "  _uploadFilesContinue,\n",
              "};\n",
              "})(self);\n",
              "</script> "
            ]
          },
          "metadata": {}
        },
        {
          "output_type": "stream",
          "name": "stdout",
          "text": [
            "Saving best_lines_DenseNonUniformStatedatasetdataset.csv to best_lines_DenseNonUniformStatedatasetdataset (1).csv\n",
            "Saving best_lines_DenseUniformStatedatasetdataset.csv to best_lines_DenseUniformStatedatasetdataset (1).csv\n",
            "Saving best_lines_SparseNonUniformStat_25datasetdataset.csv to best_lines_SparseNonUniformStat_25datasetdataset (1).csv\n",
            "Saving best_lines_SparseNonUniformStat_50datasetdataset.csv to best_lines_SparseNonUniformStat_50datasetdataset (1).csv\n",
            "Saving best_lines_SparseNonUniformStat_75datasetdataset.csv to best_lines_SparseNonUniformStat_75datasetdataset (1).csv\n",
            "Saving best_lines_SparseUniformStat_50datasetdataset.csv to best_lines_SparseUniformStat_50datasetdataset (1).csv\n",
            "Saving best_lines_SparseUniformState_25datasetdataset.csv to best_lines_SparseUniformState_25datasetdataset (1).csv\n",
            "Saving best_lines_SparseUniformState_75datasetdataset.csv to best_lines_SparseUniformState_75datasetdataset (1).csv\n"
          ]
        }
      ],
      "source": [
        "arquivos_upload = files.upload()\n",
        "\n",
        "dfs = []\n",
        "\n",
        "for nome_arquivo, conteudo_arquivo in arquivos_upload.items():\n",
        "    df = pd.read_csv(io.BytesIO(conteudo_arquivo), sep=\";\")\n",
        "    dfs.append(df)\n",
        "\n",
        "df_full = pd.concat(dfs, ignore_index=True)"
      ]
    },
    {
      "cell_type": "code",
      "source": [
        "df_full.head()"
      ],
      "metadata": {
        "colab": {
          "base_uri": "https://localhost:8080/",
          "height": 206
        },
        "id": "vde6Iy1q0X1x",
        "outputId": "8149e5e8-acbd-41a2-ebed-00dd6548090e"
      },
      "execution_count": null,
      "outputs": [
        {
          "output_type": "execute_result",
          "data": {
            "text/plain": [
              "                       Identifier  \\\n",
              "0  2L0VqyHydWwjvt0FxLxWSIZVzPBdse   \n",
              "1  3pNqxM4X3TGH9jm6eVvSCUOx1VIgTh   \n",
              "2  Nvzk7CdP71vqnUrcFa3e31tKgfHxfA   \n",
              "3  QYs0cLbgp0BVeKXRJ0WZ6rGyOYLZjQ   \n",
              "4  SsoAG4nWYN5FCK4HZKS34hhJNu21hY   \n",
              "\n",
              "                                           State  Qubit  Uniform State  \\\n",
              "0  [0.5703025  0.69523465 0.16132821 0.40666578]      2              0   \n",
              "1  [0.67762919 0.63073852 0.21166977 0.31334249]      2              0   \n",
              "2  [0.60756564 0.46872888 0.57539173 0.28298691]      2              0   \n",
              "3  [0.11009938 0.5556531  0.54701593 0.61636136]      2              0   \n",
              "4  [0.14649223 0.28127685 0.32638655 0.89044662]      2              0   \n",
              "\n",
              "   Dense State  Sparsity  Duration  Output Qubit  Output CNot Gate  \\\n",
              "0            1       0.0    9064.0             2                 1   \n",
              "1            1       0.0   10391.0             2                 1   \n",
              "2            1       0.0    7567.0             2                 1   \n",
              "3            1       0.0    7401.0             2                 1   \n",
              "4            1       0.0    7482.0             2                 1   \n",
              "\n",
              "   Output Width  Output Depth Preparation Method  \n",
              "0             2             3                UCG  \n",
              "1             2             3                UCG  \n",
              "2             2             3                UCG  \n",
              "3             2             3                UCG  \n",
              "4             2             3                UCG  "
            ],
            "text/html": [
              "\n",
              "  <div id=\"df-ca3aca7f-f74e-4669-a894-578dad37823b\" class=\"colab-df-container\">\n",
              "    <div>\n",
              "<style scoped>\n",
              "    .dataframe tbody tr th:only-of-type {\n",
              "        vertical-align: middle;\n",
              "    }\n",
              "\n",
              "    .dataframe tbody tr th {\n",
              "        vertical-align: top;\n",
              "    }\n",
              "\n",
              "    .dataframe thead th {\n",
              "        text-align: right;\n",
              "    }\n",
              "</style>\n",
              "<table border=\"1\" class=\"dataframe\">\n",
              "  <thead>\n",
              "    <tr style=\"text-align: right;\">\n",
              "      <th></th>\n",
              "      <th>Identifier</th>\n",
              "      <th>State</th>\n",
              "      <th>Qubit</th>\n",
              "      <th>Uniform State</th>\n",
              "      <th>Dense State</th>\n",
              "      <th>Sparsity</th>\n",
              "      <th>Duration</th>\n",
              "      <th>Output Qubit</th>\n",
              "      <th>Output CNot Gate</th>\n",
              "      <th>Output Width</th>\n",
              "      <th>Output Depth</th>\n",
              "      <th>Preparation Method</th>\n",
              "    </tr>\n",
              "  </thead>\n",
              "  <tbody>\n",
              "    <tr>\n",
              "      <th>0</th>\n",
              "      <td>2L0VqyHydWwjvt0FxLxWSIZVzPBdse</td>\n",
              "      <td>[0.5703025  0.69523465 0.16132821 0.40666578]</td>\n",
              "      <td>2</td>\n",
              "      <td>0</td>\n",
              "      <td>1</td>\n",
              "      <td>0.0</td>\n",
              "      <td>9064.0</td>\n",
              "      <td>2</td>\n",
              "      <td>1</td>\n",
              "      <td>2</td>\n",
              "      <td>3</td>\n",
              "      <td>UCG</td>\n",
              "    </tr>\n",
              "    <tr>\n",
              "      <th>1</th>\n",
              "      <td>3pNqxM4X3TGH9jm6eVvSCUOx1VIgTh</td>\n",
              "      <td>[0.67762919 0.63073852 0.21166977 0.31334249]</td>\n",
              "      <td>2</td>\n",
              "      <td>0</td>\n",
              "      <td>1</td>\n",
              "      <td>0.0</td>\n",
              "      <td>10391.0</td>\n",
              "      <td>2</td>\n",
              "      <td>1</td>\n",
              "      <td>2</td>\n",
              "      <td>3</td>\n",
              "      <td>UCG</td>\n",
              "    </tr>\n",
              "    <tr>\n",
              "      <th>2</th>\n",
              "      <td>Nvzk7CdP71vqnUrcFa3e31tKgfHxfA</td>\n",
              "      <td>[0.60756564 0.46872888 0.57539173 0.28298691]</td>\n",
              "      <td>2</td>\n",
              "      <td>0</td>\n",
              "      <td>1</td>\n",
              "      <td>0.0</td>\n",
              "      <td>7567.0</td>\n",
              "      <td>2</td>\n",
              "      <td>1</td>\n",
              "      <td>2</td>\n",
              "      <td>3</td>\n",
              "      <td>UCG</td>\n",
              "    </tr>\n",
              "    <tr>\n",
              "      <th>3</th>\n",
              "      <td>QYs0cLbgp0BVeKXRJ0WZ6rGyOYLZjQ</td>\n",
              "      <td>[0.11009938 0.5556531  0.54701593 0.61636136]</td>\n",
              "      <td>2</td>\n",
              "      <td>0</td>\n",
              "      <td>1</td>\n",
              "      <td>0.0</td>\n",
              "      <td>7401.0</td>\n",
              "      <td>2</td>\n",
              "      <td>1</td>\n",
              "      <td>2</td>\n",
              "      <td>3</td>\n",
              "      <td>UCG</td>\n",
              "    </tr>\n",
              "    <tr>\n",
              "      <th>4</th>\n",
              "      <td>SsoAG4nWYN5FCK4HZKS34hhJNu21hY</td>\n",
              "      <td>[0.14649223 0.28127685 0.32638655 0.89044662]</td>\n",
              "      <td>2</td>\n",
              "      <td>0</td>\n",
              "      <td>1</td>\n",
              "      <td>0.0</td>\n",
              "      <td>7482.0</td>\n",
              "      <td>2</td>\n",
              "      <td>1</td>\n",
              "      <td>2</td>\n",
              "      <td>3</td>\n",
              "      <td>UCG</td>\n",
              "    </tr>\n",
              "  </tbody>\n",
              "</table>\n",
              "</div>\n",
              "    <div class=\"colab-df-buttons\">\n",
              "\n",
              "  <div class=\"colab-df-container\">\n",
              "    <button class=\"colab-df-convert\" onclick=\"convertToInteractive('df-ca3aca7f-f74e-4669-a894-578dad37823b')\"\n",
              "            title=\"Convert this dataframe to an interactive table.\"\n",
              "            style=\"display:none;\">\n",
              "\n",
              "  <svg xmlns=\"http://www.w3.org/2000/svg\" height=\"24px\" viewBox=\"0 -960 960 960\">\n",
              "    <path d=\"M120-120v-720h720v720H120Zm60-500h600v-160H180v160Zm220 220h160v-160H400v160Zm0 220h160v-160H400v160ZM180-400h160v-160H180v160Zm440 0h160v-160H620v160ZM180-180h160v-160H180v160Zm440 0h160v-160H620v160Z\"/>\n",
              "  </svg>\n",
              "    </button>\n",
              "\n",
              "  <style>\n",
              "    .colab-df-container {\n",
              "      display:flex;\n",
              "      gap: 12px;\n",
              "    }\n",
              "\n",
              "    .colab-df-convert {\n",
              "      background-color: #E8F0FE;\n",
              "      border: none;\n",
              "      border-radius: 50%;\n",
              "      cursor: pointer;\n",
              "      display: none;\n",
              "      fill: #1967D2;\n",
              "      height: 32px;\n",
              "      padding: 0 0 0 0;\n",
              "      width: 32px;\n",
              "    }\n",
              "\n",
              "    .colab-df-convert:hover {\n",
              "      background-color: #E2EBFA;\n",
              "      box-shadow: 0px 1px 2px rgba(60, 64, 67, 0.3), 0px 1px 3px 1px rgba(60, 64, 67, 0.15);\n",
              "      fill: #174EA6;\n",
              "    }\n",
              "\n",
              "    .colab-df-buttons div {\n",
              "      margin-bottom: 4px;\n",
              "    }\n",
              "\n",
              "    [theme=dark] .colab-df-convert {\n",
              "      background-color: #3B4455;\n",
              "      fill: #D2E3FC;\n",
              "    }\n",
              "\n",
              "    [theme=dark] .colab-df-convert:hover {\n",
              "      background-color: #434B5C;\n",
              "      box-shadow: 0px 1px 3px 1px rgba(0, 0, 0, 0.15);\n",
              "      filter: drop-shadow(0px 1px 2px rgba(0, 0, 0, 0.3));\n",
              "      fill: #FFFFFF;\n",
              "    }\n",
              "  </style>\n",
              "\n",
              "    <script>\n",
              "      const buttonEl =\n",
              "        document.querySelector('#df-ca3aca7f-f74e-4669-a894-578dad37823b button.colab-df-convert');\n",
              "      buttonEl.style.display =\n",
              "        google.colab.kernel.accessAllowed ? 'block' : 'none';\n",
              "\n",
              "      async function convertToInteractive(key) {\n",
              "        const element = document.querySelector('#df-ca3aca7f-f74e-4669-a894-578dad37823b');\n",
              "        const dataTable =\n",
              "          await google.colab.kernel.invokeFunction('convertToInteractive',\n",
              "                                                    [key], {});\n",
              "        if (!dataTable) return;\n",
              "\n",
              "        const docLinkHtml = 'Like what you see? Visit the ' +\n",
              "          '<a target=\"_blank\" href=https://colab.research.google.com/notebooks/data_table.ipynb>data table notebook</a>'\n",
              "          + ' to learn more about interactive tables.';\n",
              "        element.innerHTML = '';\n",
              "        dataTable['output_type'] = 'display_data';\n",
              "        await google.colab.output.renderOutput(dataTable, element);\n",
              "        const docLink = document.createElement('div');\n",
              "        docLink.innerHTML = docLinkHtml;\n",
              "        element.appendChild(docLink);\n",
              "      }\n",
              "    </script>\n",
              "  </div>\n",
              "\n",
              "\n",
              "<div id=\"df-cb420694-de30-4231-8ba5-b33f12632ff7\">\n",
              "  <button class=\"colab-df-quickchart\" onclick=\"quickchart('df-cb420694-de30-4231-8ba5-b33f12632ff7')\"\n",
              "            title=\"Suggest charts\"\n",
              "            style=\"display:none;\">\n",
              "\n",
              "<svg xmlns=\"http://www.w3.org/2000/svg\" height=\"24px\"viewBox=\"0 0 24 24\"\n",
              "     width=\"24px\">\n",
              "    <g>\n",
              "        <path d=\"M19 3H5c-1.1 0-2 .9-2 2v14c0 1.1.9 2 2 2h14c1.1 0 2-.9 2-2V5c0-1.1-.9-2-2-2zM9 17H7v-7h2v7zm4 0h-2V7h2v10zm4 0h-2v-4h2v4z\"/>\n",
              "    </g>\n",
              "</svg>\n",
              "  </button>\n",
              "\n",
              "<style>\n",
              "  .colab-df-quickchart {\n",
              "      --bg-color: #E8F0FE;\n",
              "      --fill-color: #1967D2;\n",
              "      --hover-bg-color: #E2EBFA;\n",
              "      --hover-fill-color: #174EA6;\n",
              "      --disabled-fill-color: #AAA;\n",
              "      --disabled-bg-color: #DDD;\n",
              "  }\n",
              "\n",
              "  [theme=dark] .colab-df-quickchart {\n",
              "      --bg-color: #3B4455;\n",
              "      --fill-color: #D2E3FC;\n",
              "      --hover-bg-color: #434B5C;\n",
              "      --hover-fill-color: #FFFFFF;\n",
              "      --disabled-bg-color: #3B4455;\n",
              "      --disabled-fill-color: #666;\n",
              "  }\n",
              "\n",
              "  .colab-df-quickchart {\n",
              "    background-color: var(--bg-color);\n",
              "    border: none;\n",
              "    border-radius: 50%;\n",
              "    cursor: pointer;\n",
              "    display: none;\n",
              "    fill: var(--fill-color);\n",
              "    height: 32px;\n",
              "    padding: 0;\n",
              "    width: 32px;\n",
              "  }\n",
              "\n",
              "  .colab-df-quickchart:hover {\n",
              "    background-color: var(--hover-bg-color);\n",
              "    box-shadow: 0 1px 2px rgba(60, 64, 67, 0.3), 0 1px 3px 1px rgba(60, 64, 67, 0.15);\n",
              "    fill: var(--button-hover-fill-color);\n",
              "  }\n",
              "\n",
              "  .colab-df-quickchart-complete:disabled,\n",
              "  .colab-df-quickchart-complete:disabled:hover {\n",
              "    background-color: var(--disabled-bg-color);\n",
              "    fill: var(--disabled-fill-color);\n",
              "    box-shadow: none;\n",
              "  }\n",
              "\n",
              "  .colab-df-spinner {\n",
              "    border: 2px solid var(--fill-color);\n",
              "    border-color: transparent;\n",
              "    border-bottom-color: var(--fill-color);\n",
              "    animation:\n",
              "      spin 1s steps(1) infinite;\n",
              "  }\n",
              "\n",
              "  @keyframes spin {\n",
              "    0% {\n",
              "      border-color: transparent;\n",
              "      border-bottom-color: var(--fill-color);\n",
              "      border-left-color: var(--fill-color);\n",
              "    }\n",
              "    20% {\n",
              "      border-color: transparent;\n",
              "      border-left-color: var(--fill-color);\n",
              "      border-top-color: var(--fill-color);\n",
              "    }\n",
              "    30% {\n",
              "      border-color: transparent;\n",
              "      border-left-color: var(--fill-color);\n",
              "      border-top-color: var(--fill-color);\n",
              "      border-right-color: var(--fill-color);\n",
              "    }\n",
              "    40% {\n",
              "      border-color: transparent;\n",
              "      border-right-color: var(--fill-color);\n",
              "      border-top-color: var(--fill-color);\n",
              "    }\n",
              "    60% {\n",
              "      border-color: transparent;\n",
              "      border-right-color: var(--fill-color);\n",
              "    }\n",
              "    80% {\n",
              "      border-color: transparent;\n",
              "      border-right-color: var(--fill-color);\n",
              "      border-bottom-color: var(--fill-color);\n",
              "    }\n",
              "    90% {\n",
              "      border-color: transparent;\n",
              "      border-bottom-color: var(--fill-color);\n",
              "    }\n",
              "  }\n",
              "</style>\n",
              "\n",
              "  <script>\n",
              "    async function quickchart(key) {\n",
              "      const quickchartButtonEl =\n",
              "        document.querySelector('#' + key + ' button');\n",
              "      quickchartButtonEl.disabled = true;  // To prevent multiple clicks.\n",
              "      quickchartButtonEl.classList.add('colab-df-spinner');\n",
              "      try {\n",
              "        const charts = await google.colab.kernel.invokeFunction(\n",
              "            'suggestCharts', [key], {});\n",
              "      } catch (error) {\n",
              "        console.error('Error during call to suggestCharts:', error);\n",
              "      }\n",
              "      quickchartButtonEl.classList.remove('colab-df-spinner');\n",
              "      quickchartButtonEl.classList.add('colab-df-quickchart-complete');\n",
              "    }\n",
              "    (() => {\n",
              "      let quickchartButtonEl =\n",
              "        document.querySelector('#df-cb420694-de30-4231-8ba5-b33f12632ff7 button');\n",
              "      quickchartButtonEl.style.display =\n",
              "        google.colab.kernel.accessAllowed ? 'block' : 'none';\n",
              "    })();\n",
              "  </script>\n",
              "</div>\n",
              "\n",
              "    </div>\n",
              "  </div>\n"
            ],
            "application/vnd.google.colaboratory.intrinsic+json": {
              "type": "dataframe",
              "variable_name": "df_full",
              "summary": "{\n  \"name\": \"df_full\",\n  \"rows\": 880,\n  \"fields\": [\n    {\n      \"column\": \"Identifier\",\n      \"properties\": {\n        \"dtype\": \"string\",\n        \"num_unique_values\": 880,\n        \"samples\": [\n          \"AWBErWEpidgL2t2pGQnVqdmGXPW2fu\",\n          \"p0q7z7j9AWXYE06k8Decw9ZaLC97Er\",\n          \"4MDVE9j0oX5Qd6Epx2e1yIZNrCrGkp\"\n        ],\n        \"semantic_type\": \"\",\n        \"description\": \"\"\n      }\n    },\n    {\n      \"column\": \"State\",\n      \"properties\": {\n        \"dtype\": \"string\",\n        \"num_unique_values\": 702,\n        \"samples\": [\n          \"[0.09805807 0.09805807 0.09805807 0.         0.09805807 0.09805807\\n 0.         0.09805807 0.09805807 0.09805807 0.         0.\\n 0.09805807 0.         0.09805807 0.         0.09805807 0.\\n 0.         0.09805807 0.         0.         0.         0.\\n 0.09805807 0.09805807 0.         0.         0.09805807 0.09805807\\n 0.09805807 0.         0.         0.         0.         0.09805807\\n 0.09805807 0.09805807 0.         0.09805807 0.         0.09805807\\n 0.09805807 0.09805807 0.         0.         0.         0.\\n 0.09805807 0.09805807 0.09805807 0.09805807 0.09805807 0.09805807\\n 0.09805807 0.09805807 0.09805807 0.09805807 0.09805807 0.09805807\\n 0.09805807 0.09805807 0.09805807 0.09805807 0.09805807 0.09805807\\n 0.09805807 0.09805807 0.09805807 0.09805807 0.09805807 0.09805807\\n 0.09805807 0.09805807 0.09805807 0.09805807 0.09805807 0.09805807\\n 0.09805807 0.09805807 0.09805807 0.09805807 0.09805807 0.09805807\\n 0.09805807 0.09805807 0.09805807 0.09805807 0.09805807 0.09805807\\n 0.09805807 0.09805807 0.09805807 0.09805807 0.09805807 0.09805807\\n 0.09805807 0.09805807 0.09805807 0.09805807 0.09805807 0.09805807\\n 0.09805807 0.09805807 0.09805807 0.09805807 0.09805807 0.09805807\\n 0.09805807 0.09805807 0.09805807 0.09805807 0.09805807 0.09805807\\n 0.09805807 0.09805807 0.09805807 0.09805807 0.09805807 0.09805807\\n 0.09805807 0.09805807 0.09805807 0.09805807 0.09805807 0.09805807\\n 0.09805807 0.09805807]\",\n          \"[0.17324252 0.17537005 0.02499878 0.04664013 0.17282708 0.2517766\\n 0.         0.         0.05060864 0.16024592 0.05956428 0.\\n 0.         0.         0.08797984 0.09729601 0.         0.\\n 0.01222859 0.08518293 0.19091885 0.         0.09715559 0.21400498\\n 0.15886632 0.06268273 0.18217878 0.01361919 0.06904574 0.09322706\\n 0.02314609 0.11835023 0.09219196 0.24582731 0.         0.17233618\\n 0.21945469 0.0961848  0.09736001 0.24723205 0.05486079 0.18559629\\n 0.14527082 0.06410488 0.03405347 0.08040822 0.1056045  0.08587928\\n 0.02950223 0.08051342 0.13581628 0.10965864 0.24584105 0.22284319\\n 0.15020457 0.07433544 0.18413965 0.09331503 0.05078792 0.10834632\\n 0.0261523  0.15523769 0.1093575  0.13925152]\",\n          \"[0.08671164 0.12599156 0.15475785 0.0530831  0.01048918 0.07373771\\n 0.1068698  0.04805893 0.09881867 0.09698017 0.03596283 0.02144999\\n 0.02339885 0.06193717 0.06889904 0.10052083 0.01087413 0.12592919\\n 0.143789   0.10200593 0.03431333 0.07281035 0.01559832 0.0343589\\n 0.13446409 0.14222656 0.12375554 0.05978101 0.09054646 0.10293187\\n 0.12339229 0.07276131 0.11317467 0.10676695 0.02108488 0.07711068\\n 0.1079013  0.03032578 0.02380334 0.09571469 0.12194724 0.02625174\\n 0.08258665 0.14717254 0.11534502 0.13596106 0.04815292 0.05827039\\n 0.14362181 0.11799134 0.08181488 0.07301279 0.09476305 0.10500321\\n 0.00737664 0.10287127 0.01336293 0.12942004 0.09958286 0.01524459\\n 0.07967737 0.10319465 0.08416501 0.06817858 0.03820328 0.00102964\\n 0.09918292 0.06983289 0.10011077 0.04202826 0.04551207 0.01257653\\n 0.01721645 0.04492778 0.03827177 0.01801567 0.00446529 0.02318737\\n 0.12195456 0.08117099 0.15636526 0.12715787 0.15558511 0.01769261\\n 0.01841011 0.13532832 0.14851251 0.04278853 0.11730572 0.07509834\\n 0.04037577 0.12685504 0.03743173 0.08633852 0.13968595 0.03681011\\n 0.05434385 0.04448329 0.04844155 0.00531658 0.02065619 0.11598039\\n 0.040244   0.02602061 0.08545561 0.13366115 0.11619513 0.01562435\\n 0.00917266 0.15055205 0.15645023 0.04374872 0.11663764 0.12898538\\n 0.0048192  0.10335049 0.14444686 0.00757524 0.11730019 0.00235293\\n 0.1384153  0.06356791 0.0855711  0.02147379 0.11266816 0.04169614\\n 0.08969243 0.00229677]\"\n        ],\n        \"semantic_type\": \"\",\n        \"description\": \"\"\n      }\n    },\n    {\n      \"column\": \"Qubit\",\n      \"properties\": {\n        \"dtype\": \"number\",\n        \"std\": 3,\n        \"min\": 2,\n        \"max\": 12,\n        \"num_unique_values\": 11,\n        \"samples\": [\n          7,\n          2,\n          11\n        ],\n        \"semantic_type\": \"\",\n        \"description\": \"\"\n      }\n    },\n    {\n      \"column\": \"Uniform State\",\n      \"properties\": {\n        \"dtype\": \"number\",\n        \"std\": 0,\n        \"min\": 0,\n        \"max\": 1,\n        \"num_unique_values\": 2,\n        \"samples\": [\n          1,\n          0\n        ],\n        \"semantic_type\": \"\",\n        \"description\": \"\"\n      }\n    },\n    {\n      \"column\": \"Dense State\",\n      \"properties\": {\n        \"dtype\": \"number\",\n        \"std\": 0,\n        \"min\": 0,\n        \"max\": 1,\n        \"num_unique_values\": 2,\n        \"samples\": [\n          0,\n          1\n        ],\n        \"semantic_type\": \"\",\n        \"description\": \"\"\n      }\n    },\n    {\n      \"column\": \"Sparsity\",\n      \"properties\": {\n        \"dtype\": \"number\",\n        \"std\": 0.27966744431273843,\n        \"min\": 0.0,\n        \"max\": 0.75,\n        \"num_unique_values\": 4,\n        \"samples\": [\n          0.25,\n          0.75\n        ],\n        \"semantic_type\": \"\",\n        \"description\": \"\"\n      }\n    },\n    {\n      \"column\": \"Duration\",\n      \"properties\": {\n        \"dtype\": \"number\",\n        \"std\": 2519488.0855885963,\n        \"min\": 6563.0,\n        \"max\": 12245186.0,\n        \"num_unique_values\": 878,\n        \"samples\": [\n          12383.0,\n          28163.0\n        ],\n        \"semantic_type\": \"\",\n        \"description\": \"\"\n      }\n    },\n    {\n      \"column\": \"Output Qubit\",\n      \"properties\": {\n        \"dtype\": \"number\",\n        \"std\": 3,\n        \"min\": 2,\n        \"max\": 12,\n        \"num_unique_values\": 11,\n        \"samples\": [\n          7,\n          2\n        ],\n        \"semantic_type\": \"\",\n        \"description\": \"\"\n      }\n    },\n    {\n      \"column\": \"Output CNot Gate\",\n      \"properties\": {\n        \"dtype\": \"number\",\n        \"std\": 852,\n        \"min\": 0,\n        \"max\": 3789,\n        \"num_unique_values\": 49,\n        \"samples\": [\n          212,\n          505\n        ],\n        \"semantic_type\": \"\",\n        \"description\": \"\"\n      }\n    },\n    {\n      \"column\": \"Output Width\",\n      \"properties\": {\n        \"dtype\": \"number\",\n        \"std\": 3,\n        \"min\": 2,\n        \"max\": 12,\n        \"num_unique_values\": 11,\n        \"samples\": [\n          7,\n          2\n        ],\n        \"semantic_type\": \"\",\n        \"description\": \"\"\n      }\n    },\n    {\n      \"column\": \"Output Depth\",\n      \"properties\": {\n        \"dtype\": \"number\",\n        \"std\": 1081,\n        \"min\": 1,\n        \"max\": 4328,\n        \"num_unique_values\": 69,\n        \"samples\": [\n          763,\n          3\n        ],\n        \"semantic_type\": \"\",\n        \"description\": \"\"\n      }\n    },\n    {\n      \"column\": \"Preparation Method\",\n      \"properties\": {\n        \"dtype\": \"category\",\n        \"num_unique_values\": 4,\n        \"samples\": [\n          \"Low Rank\",\n          \"BDSP\"\n        ],\n        \"semantic_type\": \"\",\n        \"description\": \"\"\n      }\n    }\n  ]\n}"
            }
          },
          "metadata": {},
          "execution_count": 97
        }
      ]
    },
    {
      "cell_type": "markdown",
      "source": [
        "#Funções\n",
        "\n",
        "valores(df) - Exibe a quantidade de ocorrências de cada ['Preparation Method'] no dataframe.\n",
        "\n",
        "acuracia(acertos, erros) -  Retorna a acurácia em decimal."
      ],
      "metadata": {
        "id": "mGyCcLzEcggi"
      }
    },
    {
      "cell_type": "code",
      "source": [
        "def valores(df):\n",
        "  valores_unicos_label = df['Preparation Method'].unique()\n",
        "  print(valores_unicos_label)\n",
        "  for _ in valores_unicos_label:\n",
        "    filtered_df = df[df['Preparation Method'] == _]\n",
        "    count_occurrences = filtered_df.shape[0]\n",
        "    print(f\"{_} possui {count_occurrences} ocorrências\")"
      ],
      "metadata": {
        "id": "vhj3QFeBzjWr"
      },
      "execution_count": null,
      "outputs": []
    },
    {
      "cell_type": "code",
      "source": [
        "def acuracia(acertos, erros):\n",
        "  acuracia_manual = acertos / (acertos + erros)\n",
        "  return acuracia_manual"
      ],
      "metadata": {
        "id": "vEbHlJVR4tXY"
      },
      "execution_count": null,
      "outputs": []
    },
    {
      "cell_type": "markdown",
      "source": [
        "#Galhos\n",
        "\n",
        "Cada celula filtra uma decisão da Árvore, onde a função valores mostra a quantidade de cada ocorrência e logo depois usamos a função para calcular a acurácia com base na decisão da árvore em relação as ocorrências."
      ],
      "metadata": {
        "id": "c0AF_Nquc5wo"
      }
    },
    {
      "cell_type": "markdown",
      "source": [
        "Galho Não Unforme Esparso."
      ],
      "metadata": {
        "id": "kdPQ9A-ITUTe"
      }
    },
    {
      "cell_type": "code",
      "source": [
        "df_comparison1 = df_full[df_full['Uniform State'] == 0]\n",
        "df_comparison2 = df_comparison1[df_comparison1['Dense State'] == 0]\n",
        "df_comparison3 = df_comparison2[df_comparison2['Qubit'] != 8]\n",
        "df_comparison4 = df_comparison3[(df_comparison3['Qubit'] != 2) & (df_comparison3['Sparsity'] != 0.25)]\n",
        "decision = df_comparison4[df_comparison4['Sparsity'] != 0.50]\n",
        "valores(decision)"
      ],
      "metadata": {
        "colab": {
          "base_uri": "https://localhost:8080/"
        },
        "id": "6DSmbrs_0iLO",
        "outputId": "de1d56ef-e0f5-4e43-efe7-b894ed633bba"
      },
      "execution_count": null,
      "outputs": [
        {
          "output_type": "stream",
          "name": "stdout",
          "text": [
            "['Low Rank' 'SVD']\n",
            "Low Rank possui 73 ocorrências\n",
            "SVD possui 17 ocorrências\n"
          ]
        }
      ]
    },
    {
      "cell_type": "code",
      "source": [
        "#Low-rank\n",
        "acerto_no1 = 73\n",
        "erro_no1= 17\n",
        "acuracia(acerto_no1, erro_no1)"
      ],
      "metadata": {
        "colab": {
          "base_uri": "https://localhost:8080/"
        },
        "id": "Yymn_JVr6I_T",
        "outputId": "781117e1-a3b2-4944-a5a3-b1e6423cc115"
      },
      "execution_count": null,
      "outputs": [
        {
          "output_type": "execute_result",
          "data": {
            "text/plain": [
              "0.8111111111111111"
            ]
          },
          "metadata": {},
          "execution_count": 128
        }
      ]
    },
    {
      "cell_type": "code",
      "source": [
        "df_comparison1 = df_full[df_full['Uniform State'] == 0]\n",
        "df_comparison2 = df_comparison1[df_comparison1['Dense State'] == 0]\n",
        "df_comparison3 = df_comparison2[df_comparison2['Qubit'] != 8]\n",
        "df_comparison4 = df_comparison3[(df_comparison3['Qubit'] != 2) & (df_comparison3['Sparsity'] != 0.25)]\n",
        "decision = df_comparison4[df_comparison4['Sparsity'] == 0.50]\n",
        "valores(decision)"
      ],
      "metadata": {
        "colab": {
          "base_uri": "https://localhost:8080/"
        },
        "id": "2fMgPPFO5otO",
        "outputId": "7d44b530-515c-4f18-8bb3-52bf0d817356"
      },
      "execution_count": null,
      "outputs": [
        {
          "output_type": "stream",
          "name": "stdout",
          "text": [
            "['UCG' 'Low Rank' 'SVD']\n",
            "UCG possui 2 ocorrências\n",
            "Low Rank possui 75 ocorrências\n",
            "SVD possui 13 ocorrências\n"
          ]
        }
      ]
    },
    {
      "cell_type": "code",
      "source": [
        "#SVD\n",
        "acerto_no2 = 13\n",
        "erro_no2= 75+2\n",
        "acuracia(acerto_no2, erro_no2)"
      ],
      "metadata": {
        "colab": {
          "base_uri": "https://localhost:8080/"
        },
        "id": "vswDC2rq502o",
        "outputId": "c343537f-763a-4d06-a0db-d652ff86c93a"
      },
      "execution_count": null,
      "outputs": [
        {
          "output_type": "execute_result",
          "data": {
            "text/plain": [
              "0.14444444444444443"
            ]
          },
          "metadata": {},
          "execution_count": 227
        }
      ]
    },
    {
      "cell_type": "code",
      "source": [
        "df_comparison1 = df_full[df_full['Uniform State'] == 0]\n",
        "df_comparison2 = df_comparison1[df_comparison1['Dense State'] == 0]\n",
        "df_comparison3 = df_comparison2[df_comparison2['Qubit'] != 8]\n",
        "decision = df_comparison3[(df_comparison3['Qubit'] == 2) & (df_comparison3['Sparsity'] == 0.25)]\n",
        "valores(decision)"
      ],
      "metadata": {
        "colab": {
          "base_uri": "https://localhost:8080/"
        },
        "id": "nhjskp8a5-bf",
        "outputId": "565728e3-fe66-4aa9-b63b-f2a21e17fc48"
      },
      "execution_count": null,
      "outputs": [
        {
          "output_type": "stream",
          "name": "stdout",
          "text": [
            "['UCG']\n",
            "UCG possui 10 ocorrências\n"
          ]
        }
      ]
    },
    {
      "cell_type": "code",
      "source": [
        "#Isometry\n",
        "acerto_no3 = 0\n",
        "erro_no3= 10\n",
        "acuracia(acerto_no3, erro_no3)"
      ],
      "metadata": {
        "colab": {
          "base_uri": "https://localhost:8080/"
        },
        "id": "4_viETaM6Hfr",
        "outputId": "d9059eec-7e4a-4c3c-c63b-3d5a49572165"
      },
      "execution_count": null,
      "outputs": [
        {
          "output_type": "execute_result",
          "data": {
            "text/plain": [
              "0.0"
            ]
          },
          "metadata": {},
          "execution_count": 133
        }
      ]
    },
    {
      "cell_type": "code",
      "source": [
        "df_comparison1 = df_full[df_full['Uniform State'] == 0]\n",
        "df_comparison2 = df_comparison1[df_comparison1['Dense State'] == 0]\n",
        "decision = df_comparison2[df_comparison2['Qubit'] == 7]\n",
        "valores(decision)"
      ],
      "metadata": {
        "colab": {
          "base_uri": "https://localhost:8080/"
        },
        "id": "z0e7fKUX7GvF",
        "outputId": "b60824b7-9954-474b-cf8f-6aca36e4877d"
      },
      "execution_count": null,
      "outputs": [
        {
          "output_type": "stream",
          "name": "stdout",
          "text": [
            "['Low Rank']\n",
            "Low Rank possui 30 ocorrências\n"
          ]
        }
      ]
    },
    {
      "cell_type": "code",
      "source": [
        "#Low-rank\n",
        "acerto_no4 = 30\n",
        "erro_no4= 0\n",
        "acuracia(acerto_no4, erro_no4)"
      ],
      "metadata": {
        "colab": {
          "base_uri": "https://localhost:8080/"
        },
        "id": "qrfqDPTD7MRw",
        "outputId": "31d185d9-e3d3-452a-c435-95b29d129f09"
      },
      "execution_count": null,
      "outputs": [
        {
          "output_type": "execute_result",
          "data": {
            "text/plain": [
              "1.0"
            ]
          },
          "metadata": {},
          "execution_count": 183
        }
      ]
    },
    {
      "cell_type": "code",
      "source": [
        "df_comparison1 = df_full[df_full['Uniform State'] == 0]\n",
        "df_comparison2 = df_comparison1[df_comparison1['Dense State'] == 0]\n",
        "decision = df_comparison2[df_comparison2['Qubit'] == 8]\n",
        "valores(decision)"
      ],
      "metadata": {
        "colab": {
          "base_uri": "https://localhost:8080/"
        },
        "id": "BTHAuXe6D-5_",
        "outputId": "a73edaea-07ad-427b-a9b8-2cd05d925494"
      },
      "execution_count": null,
      "outputs": [
        {
          "output_type": "stream",
          "name": "stdout",
          "text": [
            "['SVD' 'Low Rank']\n",
            "SVD possui 22 ocorrências\n",
            "Low Rank possui 8 ocorrências\n"
          ]
        }
      ]
    },
    {
      "cell_type": "code",
      "source": [
        "#SVD\n",
        "acerto_no5 = 22\n",
        "erro_no5= 8\n",
        "acuracia(acerto_no5, erro_no5)"
      ],
      "metadata": {
        "colab": {
          "base_uri": "https://localhost:8080/"
        },
        "id": "J8EE5HDBEFOA",
        "outputId": "796b1323-511e-43e2-e40b-39cb10a789f5"
      },
      "execution_count": null,
      "outputs": [
        {
          "output_type": "execute_result",
          "data": {
            "text/plain": [
              "0.7333333333333333"
            ]
          },
          "metadata": {},
          "execution_count": 185
        }
      ]
    },
    {
      "cell_type": "markdown",
      "source": [
        "Galho Não Unforme Denso."
      ],
      "metadata": {
        "id": "qPaSEBeB_-kH"
      }
    },
    {
      "cell_type": "code",
      "source": [
        "df_comparison1 = df_full[df_full['Uniform State'] == 0]\n",
        "df_comparison2 = df_comparison1[df_comparison1['Dense State'] == 1]\n",
        "df_comparison3 = df_comparison2[df_comparison2['Qubit'] > 4]\n",
        "decision = df_comparison3[~df_comparison3['Qubit'].isin([6, 8])]\n",
        "\n",
        "valores(decision)"
      ],
      "metadata": {
        "colab": {
          "base_uri": "https://localhost:8080/"
        },
        "id": "hATp-0nJ7XtE",
        "outputId": "d8af1d90-2775-4de3-9b79-ccb012b8816d"
      },
      "execution_count": null,
      "outputs": [
        {
          "output_type": "stream",
          "name": "stdout",
          "text": [
            "['Low Rank']\n",
            "Low Rank possui 60 ocorrências\n"
          ]
        }
      ]
    },
    {
      "cell_type": "code",
      "source": [
        "#Low-rank\n",
        "acerto_no6 = 60\n",
        "erro_no6= 0\n",
        "acuracia(acerto_no6, erro_no6)"
      ],
      "metadata": {
        "colab": {
          "base_uri": "https://localhost:8080/"
        },
        "id": "G1yfnIhhAJm5",
        "outputId": "0ef6d0fa-8999-4a3d-a9fa-90b667b75509"
      },
      "execution_count": null,
      "outputs": [
        {
          "output_type": "execute_result",
          "data": {
            "text/plain": [
              "1.0"
            ]
          },
          "metadata": {},
          "execution_count": 186
        }
      ]
    },
    {
      "cell_type": "code",
      "source": [
        "df_comparison1 = df_full[df_full['Uniform State'] == 0]\n",
        "df_comparison2 = df_comparison1[df_comparison1['Dense State'] == 1]\n",
        "df_comparison3 = df_comparison2[df_comparison2['Qubit'] >= 4]\n",
        "decision = df_comparison3[df_comparison3['Qubit'].isin([6, 8])]\n",
        "valores(decision)"
      ],
      "metadata": {
        "colab": {
          "base_uri": "https://localhost:8080/"
        },
        "id": "7DouvLxU8cO-",
        "outputId": "fc6be96d-61e2-4f0a-8d44-dbb5924e8822"
      },
      "execution_count": null,
      "outputs": [
        {
          "output_type": "stream",
          "name": "stdout",
          "text": [
            "['Low Rank' 'SVD']\n",
            "Low Rank possui 6 ocorrências\n",
            "SVD possui 14 ocorrências\n"
          ]
        }
      ]
    },
    {
      "cell_type": "code",
      "source": [
        "#SVD\n",
        "acerto_no7 = 14\n",
        "erro_no7=  6\n",
        "acuracia(acerto_no7, erro_no7)"
      ],
      "metadata": {
        "colab": {
          "base_uri": "https://localhost:8080/"
        },
        "id": "-lfkVYi3AMje",
        "outputId": "5cdc760b-e5d5-47d4-b32e-3938b1d3152a"
      },
      "execution_count": null,
      "outputs": [
        {
          "output_type": "execute_result",
          "data": {
            "text/plain": [
              "0.7"
            ]
          },
          "metadata": {},
          "execution_count": 188
        }
      ]
    },
    {
      "cell_type": "code",
      "source": [
        "df_comparison1 = df_full[df_full['Uniform State'] == 0]\n",
        "df_comparison2 = df_comparison1[df_comparison1['Dense State'] == 1]\n",
        "df_comparison3 = df_comparison2[df_comparison2['Qubit'] < 4]\n",
        "decision = df_comparison3[df_comparison3['Qubit'] > 2]\n",
        "\n",
        "valores(decision)"
      ],
      "metadata": {
        "colab": {
          "base_uri": "https://localhost:8080/"
        },
        "id": "Hio6gBy9AaYj",
        "outputId": "b4b81fb2-af8e-4a39-acc6-cd9a611a03d6"
      },
      "execution_count": null,
      "outputs": [
        {
          "output_type": "stream",
          "name": "stdout",
          "text": [
            "['Low Rank' 'SVD' 'UCG']\n",
            "Low Rank possui 4 ocorrências\n",
            "SVD possui 4 ocorrências\n",
            "UCG possui 2 ocorrências\n"
          ]
        }
      ]
    },
    {
      "cell_type": "code",
      "source": [
        "#SVD\n",
        "acerto_no8 = 4\n",
        "erro_no8=  2+4\n",
        "acuracia(acerto_no8, erro_no8)"
      ],
      "metadata": {
        "colab": {
          "base_uri": "https://localhost:8080/"
        },
        "id": "CdZW5NGzAbvA",
        "outputId": "936a930b-b7c3-4a0e-df91-65793cd35ee7"
      },
      "execution_count": null,
      "outputs": [
        {
          "output_type": "execute_result",
          "data": {
            "text/plain": [
              "0.4"
            ]
          },
          "metadata": {},
          "execution_count": 190
        }
      ]
    },
    {
      "cell_type": "code",
      "source": [
        "df_comparison1 = df_full[df_full['Uniform State'] == 0]\n",
        "df_comparison2 = df_comparison1[df_comparison1['Dense State'] == 1]\n",
        "df_comparison3 = df_comparison2[df_comparison2['Qubit'] < 4]\n",
        "decision = df_comparison3[df_comparison3['Qubit'] < 3]\n",
        "\n",
        "valores(decision)"
      ],
      "metadata": {
        "colab": {
          "base_uri": "https://localhost:8080/"
        },
        "id": "vOWparV8BEzI",
        "outputId": "c262c122-d032-4485-fedd-18b113e5451d"
      },
      "execution_count": null,
      "outputs": [
        {
          "output_type": "stream",
          "name": "stdout",
          "text": [
            "['UCG']\n",
            "UCG possui 10 ocorrências\n"
          ]
        }
      ]
    },
    {
      "cell_type": "code",
      "source": [
        "#UCG\n",
        "acerto_no9 = 10\n",
        "erro_no9=  0\n",
        "acuracia(acerto_no9, erro_no9)"
      ],
      "metadata": {
        "colab": {
          "base_uri": "https://localhost:8080/"
        },
        "id": "lWu2tKs5BQlH",
        "outputId": "623ddbeb-a50d-4a3b-f236-1e0aa44f6e0b"
      },
      "execution_count": null,
      "outputs": [
        {
          "output_type": "execute_result",
          "data": {
            "text/plain": [
              "1.0"
            ]
          },
          "metadata": {},
          "execution_count": 192
        }
      ]
    },
    {
      "cell_type": "code",
      "source": [
        "df_comparison1 = df_full[df_full['Uniform State'] == 1]\n",
        "df_comparison2 = df_comparison1[df_comparison1['Dense State'] == 0]\n",
        "decision = df_comparison2[df_comparison2['Qubit'] >= 7]\n",
        "\n",
        "valores(decision)"
      ],
      "metadata": {
        "colab": {
          "base_uri": "https://localhost:8080/"
        },
        "id": "8Fm3FmHrBUPO",
        "outputId": "3e7b11dd-974b-4bb4-fb87-74011dd9aa60"
      },
      "execution_count": null,
      "outputs": [
        {
          "output_type": "stream",
          "name": "stdout",
          "text": [
            "['Low Rank']\n",
            "Low Rank possui 180 ocorrências\n"
          ]
        }
      ]
    },
    {
      "cell_type": "code",
      "source": [
        "#Low-rank\n",
        "acerto_no10 = 180\n",
        "erro_no10=  0\n",
        "acuracia(acerto_no10, erro_no10)"
      ],
      "metadata": {
        "colab": {
          "base_uri": "https://localhost:8080/"
        },
        "id": "ST9KwjsxBn2I",
        "outputId": "2dd7e00d-695e-47b8-fc51-1aae411463ce"
      },
      "execution_count": null,
      "outputs": [
        {
          "output_type": "execute_result",
          "data": {
            "text/plain": [
              "1.0"
            ]
          },
          "metadata": {},
          "execution_count": 193
        }
      ]
    },
    {
      "cell_type": "code",
      "source": [
        "df_comparison1 = df_full[df_full['Uniform State'] == 1]\n",
        "df_comparison2 = df_comparison1[df_comparison1['Dense State'] == 0]\n",
        "df_comparison3 = df_comparison2[df_comparison2['Qubit'] < 7]\n",
        "df_comparison4 = df_comparison3[~df_comparison3['Qubit'].isin([4, 5])]\n",
        "decision = df_comparison4[df_comparison4['Sparsity'] != 0.25]\n",
        "\n",
        "valores(decision)"
      ],
      "metadata": {
        "colab": {
          "base_uri": "https://localhost:8080/"
        },
        "id": "j-EMu8TwBuay",
        "outputId": "98675185-4719-4b3b-c25a-63f4f264d290"
      },
      "execution_count": null,
      "outputs": [
        {
          "output_type": "stream",
          "name": "stdout",
          "text": [
            "['Low Rank' 'SVD' 'UCG' 'BDSP']\n",
            "Low Rank possui 34 ocorrências\n",
            "SVD possui 23 ocorrências\n",
            "UCG possui 2 ocorrências\n",
            "BDSP possui 1 ocorrências\n"
          ]
        }
      ]
    },
    {
      "cell_type": "code",
      "source": [
        "#Low-rank\n",
        "acerto_no11 = 34\n",
        "erro_no11=  23+2+1\n",
        "acuracia(acerto_no11, erro_no11)"
      ],
      "metadata": {
        "colab": {
          "base_uri": "https://localhost:8080/"
        },
        "id": "TMCRqkYxCKat",
        "outputId": "0128c314-758a-426d-cca3-e38d44f2bfd4"
      },
      "execution_count": null,
      "outputs": [
        {
          "output_type": "execute_result",
          "data": {
            "text/plain": [
              "0.5666666666666667"
            ]
          },
          "metadata": {},
          "execution_count": 196
        }
      ]
    },
    {
      "cell_type": "code",
      "source": [
        "df_comparison1 = df_full[df_full['Uniform State'] == 1]\n",
        "df_comparison2 = df_comparison1[df_comparison1['Dense State'] == 0]\n",
        "df_comparison3 = df_comparison2[df_comparison2['Qubit'] < 7]\n",
        "df_comparison4 = df_comparison3[~df_comparison3['Qubit'].isin([4, 5])]\n",
        "df_comparison5 = df_comparison4[df_comparison4['Sparsity'] == 0.25]\n",
        "decision = df_comparison5[df_comparison5['Qubit'] != 2]\n",
        "\n",
        "valores(decision)"
      ],
      "metadata": {
        "colab": {
          "base_uri": "https://localhost:8080/"
        },
        "id": "MZOl-nykCU6G",
        "outputId": "d90d03f0-4229-4834-b247-df897f217b07"
      },
      "execution_count": null,
      "outputs": [
        {
          "output_type": "stream",
          "name": "stdout",
          "text": [
            "['SVD' 'Low Rank']\n",
            "SVD possui 10 ocorrências\n",
            "Low Rank possui 10 ocorrências\n"
          ]
        }
      ]
    },
    {
      "cell_type": "code",
      "source": [
        "#Low-rank\n",
        "acerto_no12 = 10\n",
        "erro_no12=  10\n",
        "acuracia(acerto_no12, erro_no12)"
      ],
      "metadata": {
        "colab": {
          "base_uri": "https://localhost:8080/"
        },
        "id": "p5xFlJyhCXFT",
        "outputId": "ca19c097-2bd6-408f-8314-f9cdf9734dc0"
      },
      "execution_count": null,
      "outputs": [
        {
          "output_type": "execute_result",
          "data": {
            "text/plain": [
              "0.5"
            ]
          },
          "metadata": {},
          "execution_count": 201
        }
      ]
    },
    {
      "cell_type": "code",
      "source": [
        "df_comparison1 = df_full[df_full['Uniform State'] == 1]\n",
        "df_comparison2 = df_comparison1[df_comparison1['Dense State'] == 0]\n",
        "df_comparison3 = df_comparison2[df_comparison2['Qubit'] < 7]\n",
        "df_comparison4 = df_comparison3[~df_comparison3['Qubit'].isin([4, 5])]\n",
        "df_comparison5 = df_comparison4[df_comparison4['Sparsity'] == 0.25]\n",
        "decision = df_comparison5[df_comparison5['Qubit'] == 2]\n",
        "\n",
        "valores(decision)"
      ],
      "metadata": {
        "colab": {
          "base_uri": "https://localhost:8080/"
        },
        "id": "WNPnDG0TFuH_",
        "outputId": "11a1e6f5-d5bc-437e-d602-34d6fb835214"
      },
      "execution_count": null,
      "outputs": [
        {
          "output_type": "stream",
          "name": "stdout",
          "text": [
            "['UCG']\n",
            "UCG possui 10 ocorrências\n"
          ]
        }
      ]
    },
    {
      "cell_type": "code",
      "source": [
        "#Isometry\n",
        "acerto_no13 = 0\n",
        "erro_no13=  10\n",
        "acuracia(acerto_no13, erro_no13)"
      ],
      "metadata": {
        "colab": {
          "base_uri": "https://localhost:8080/"
        },
        "id": "A8BBB5_5FzZa",
        "outputId": "b7d89014-cb37-4030-f642-8ac06a36d4d2"
      },
      "execution_count": null,
      "outputs": [
        {
          "output_type": "execute_result",
          "data": {
            "text/plain": [
              "0.0"
            ]
          },
          "metadata": {},
          "execution_count": 204
        }
      ]
    },
    {
      "cell_type": "code",
      "source": [
        "df_comparison1 = df_full[df_full['Uniform State'] == 1]\n",
        "df_comparison2 = df_comparison1[df_comparison1['Dense State'] == 0]\n",
        "df_comparison3 = df_comparison2[df_comparison2['Qubit'] < 7]\n",
        "decision = df_comparison3[df_comparison3['Qubit'].isin([4, 5])]\n",
        "\n",
        "valores(decision)"
      ],
      "metadata": {
        "colab": {
          "base_uri": "https://localhost:8080/"
        },
        "id": "gwJ3rfQbF_b0",
        "outputId": "f99dc851-19b0-4f42-f79b-c9525086746e"
      },
      "execution_count": null,
      "outputs": [
        {
          "output_type": "stream",
          "name": "stdout",
          "text": [
            "['Low Rank' 'SVD']\n",
            "Low Rank possui 47 ocorrências\n",
            "SVD possui 13 ocorrências\n"
          ]
        }
      ]
    },
    {
      "cell_type": "code",
      "source": [
        "#Low-rank\n",
        "acerto_no14 = 47\n",
        "erro_no14=  13\n",
        "acuracia(acerto_no14, erro_no14)"
      ],
      "metadata": {
        "colab": {
          "base_uri": "https://localhost:8080/"
        },
        "id": "VTe_vloJGASm",
        "outputId": "1f0ac696-a9e3-4bff-863f-87c429656643"
      },
      "execution_count": null,
      "outputs": [
        {
          "output_type": "execute_result",
          "data": {
            "text/plain": [
              "0.7833333333333333"
            ]
          },
          "metadata": {},
          "execution_count": 209
        }
      ]
    },
    {
      "cell_type": "code",
      "source": [
        "df_comparison1 = df_full[df_full['Uniform State'] == 1]\n",
        "decision = df_comparison1[df_comparison1['Dense State'] == 1]\n",
        "\n",
        "valores(decision)"
      ],
      "metadata": {
        "colab": {
          "base_uri": "https://localhost:8080/"
        },
        "id": "P3Ph9anyGPIY",
        "outputId": "b074284d-d0b6-4b18-9cd6-821d8535b45e"
      },
      "execution_count": null,
      "outputs": [
        {
          "output_type": "stream",
          "name": "stdout",
          "text": [
            "['Low Rank']\n",
            "Low Rank possui 110 ocorrências\n"
          ]
        }
      ]
    },
    {
      "cell_type": "code",
      "source": [
        "#Low-rank\n",
        "acerto_no15 = 110\n",
        "erro_no15=  0\n",
        "acuracia(acerto_no15, erro_no15)"
      ],
      "metadata": {
        "colab": {
          "base_uri": "https://localhost:8080/"
        },
        "id": "2DB7TSLeGTva",
        "outputId": "3816836d-aeb6-426d-f13a-5992b17b5c80"
      },
      "execution_count": null,
      "outputs": [
        {
          "output_type": "execute_result",
          "data": {
            "text/plain": [
              "1.0"
            ]
          },
          "metadata": {},
          "execution_count": 213
        }
      ]
    },
    {
      "cell_type": "markdown",
      "source": [
        "# Acurácia da Árvore de de Decisão\n",
        "\n",
        "A celula final faz o calcula da Acurácia em relação a Árvore De Decisão em sua totalidade."
      ],
      "metadata": {
        "id": "i4BmU2w9dgaY"
      }
    },
    {
      "cell_type": "code",
      "source": [
        "acertos = [acerto_no1, acerto_no2, acerto_no3, acerto_no4, acerto_no5, acerto_no6, acerto_no7, acerto_no8,\n",
        "           acerto_no9, acerto_no10, acerto_no11, acerto_no12, acerto_no13, acerto_no14, acerto_no15]\n",
        "erros = [erro_no1, erro_no2, erro_no3, erro_no4, erro_no5, erro_no6, erro_no7, erro_no8,\n",
        "           erro_no9, erro_no10, erro_no11, erro_no12, erro_no13, erro_no14, erro_no15]"
      ],
      "metadata": {
        "id": "6osDVNrlGdbC"
      },
      "execution_count": null,
      "outputs": []
    },
    {
      "cell_type": "code",
      "source": [
        "a = sum(acertos)\n",
        "e = sum(erros)\n",
        "acuracia(a, e)"
      ],
      "metadata": {
        "colab": {
          "base_uri": "https://localhost:8080/"
        },
        "id": "DvIErhJNHC8t",
        "outputId": "61f49c2a-1044-4a99-f392-a78d73815a5b"
      },
      "execution_count": null,
      "outputs": [
        {
          "output_type": "execute_result",
          "data": {
            "text/plain": [
              "0.7976190476190477"
            ]
          },
          "metadata": {},
          "execution_count": 219
        }
      ]
    }
  ]
}